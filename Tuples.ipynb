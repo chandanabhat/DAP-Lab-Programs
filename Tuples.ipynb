{
 "cells": [
  {
   "cell_type": "code",
   "execution_count": 1,
   "id": "424b5b94",
   "metadata": {},
   "outputs": [
    {
     "name": "stdout",
     "output_type": "stream",
     "text": [
      "('A', 'B', 'C')\n",
      "(1, 23, 4, 5, 5, 6)\n",
      "('abc', 'def')\n"
     ]
    }
   ],
   "source": [
    "tup= ('A','B','C')\n",
    "print(tup)\n",
    "tup1=(1,23,4,5,5,6)\n",
    "print(tup1)\n",
    "tup2=\"abc\",\"def\"\n",
    "print(tup2)"
   ]
  },
  {
   "cell_type": "code",
   "execution_count": 5,
   "id": "debde1a5",
   "metadata": {},
   "outputs": [
    {
     "name": "stdout",
     "output_type": "stream",
     "text": [
      "()\n"
     ]
    }
   ],
   "source": [
    "tup1 = ()\n",
    "print(tup1)"
   ]
  },
  {
   "cell_type": "code",
   "execution_count": 2,
   "id": "74286d0d",
   "metadata": {},
   "outputs": [
    {
     "name": "stdout",
     "output_type": "stream",
     "text": [
      "16\n"
     ]
    }
   ],
   "source": [
    "tup1 = (16)\n",
    "print(tup1)"
   ]
  },
  {
   "cell_type": "code",
   "execution_count": 3,
   "id": "a79a5606",
   "metadata": {},
   "outputs": [
    {
     "name": "stdout",
     "output_type": "stream",
     "text": [
      "A\n",
      "C\n",
      "('C', 'D', 'E')\n"
     ]
    }
   ],
   "source": [
    "tup= ('A','B','C','D','E')\n",
    "print(tup[0])\n",
    "print(tup[2])\n",
    "print(tup[2:5])"
   ]
  },
  {
   "cell_type": "code",
   "execution_count": 5,
   "id": "21292bd1",
   "metadata": {},
   "outputs": [
    {
     "name": "stdout",
     "output_type": "stream",
     "text": [
      "('A', 'B', 'C', 'D', 'E')\n"
     ]
    },
    {
     "ename": "NameError",
     "evalue": "name 'tup1' is not defined",
     "output_type": "error",
     "traceback": [
      "\u001b[1;31m---------------------------------------------------------------------------\u001b[0m",
      "\u001b[1;31mNameError\u001b[0m                                 Traceback (most recent call last)",
      "\u001b[1;32m<ipython-input-5-fc9f330e7a2b>\u001b[0m in \u001b[0;36m<module>\u001b[1;34m\u001b[0m\n\u001b[0;32m      3\u001b[0m \u001b[1;33m\u001b[0m\u001b[0m\n\u001b[0;32m      4\u001b[0m \u001b[1;32mdel\u001b[0m\u001b[1;33m(\u001b[0m\u001b[0mtup1\u001b[0m\u001b[1;33m)\u001b[0m\u001b[1;33m\u001b[0m\u001b[1;33m\u001b[0m\u001b[0m\n\u001b[1;32m----> 5\u001b[1;33m \u001b[0mprint\u001b[0m\u001b[1;33m(\u001b[0m\u001b[0mtup1\u001b[0m\u001b[1;33m)\u001b[0m\u001b[1;33m\u001b[0m\u001b[1;33m\u001b[0m\u001b[0m\n\u001b[0m",
      "\u001b[1;31mNameError\u001b[0m: name 'tup1' is not defined"
     ]
    }
   ],
   "source": [
    "tup1 = ('A','B','C','D','E')\n",
    "print(tup1)\n",
    "\n",
    "del(tup1)\n",
    "print(tup1)"
   ]
  },
  {
   "cell_type": "code",
   "execution_count": 6,
   "id": "10d1afee",
   "metadata": {},
   "outputs": [
    {
     "name": "stdout",
     "output_type": "stream",
     "text": [
      "('A', 'B', 'C', 'D', 'E')\n",
      "('F', 'G', 'H')\n",
      "('A', 'B', 'C', 'D', 'E', 'F', 'G', 'H')\n"
     ]
    }
   ],
   "source": [
    "tup1= ('A','B','C','D','E')\n",
    "print(tup1)\n",
    "tup2= ('F','G','H')\n",
    "print(tup2)\n",
    "\n",
    "\n",
    "tup3=tup1+tup2\n",
    "print(tup3)"
   ]
  },
  {
   "cell_type": "code",
   "execution_count": 7,
   "id": "bb18bcef",
   "metadata": {},
   "outputs": [
    {
     "name": "stdout",
     "output_type": "stream",
     "text": [
      "('A', 'B', 'C', 'D', 'E')\n",
      "value at 3rd loc=  D\n"
     ]
    },
    {
     "ename": "TypeError",
     "evalue": "'tuple' object does not support item assignment",
     "output_type": "error",
     "traceback": [
      "\u001b[1;31m---------------------------------------------------------------------------\u001b[0m",
      "\u001b[1;31mTypeError\u001b[0m                                 Traceback (most recent call last)",
      "\u001b[1;32m<ipython-input-7-a57ecf80a47d>\u001b[0m in \u001b[0;36m<module>\u001b[1;34m\u001b[0m\n\u001b[0;32m      4\u001b[0m \u001b[0mprint\u001b[0m\u001b[1;33m(\u001b[0m\u001b[1;34m\"value at 3rd loc= \"\u001b[0m\u001b[1;33m,\u001b[0m\u001b[0mtup1\u001b[0m\u001b[1;33m[\u001b[0m\u001b[1;36m3\u001b[0m\u001b[1;33m]\u001b[0m\u001b[1;33m)\u001b[0m\u001b[1;33m\u001b[0m\u001b[1;33m\u001b[0m\u001b[0m\n\u001b[0;32m      5\u001b[0m \u001b[1;33m\u001b[0m\u001b[0m\n\u001b[1;32m----> 6\u001b[1;33m \u001b[0mtup1\u001b[0m\u001b[1;33m[\u001b[0m\u001b[1;36m3\u001b[0m\u001b[1;33m]\u001b[0m\u001b[1;33m=\u001b[0m\u001b[1;34m\"F\"\u001b[0m \u001b[1;31m#not allowed\u001b[0m\u001b[1;33m\u001b[0m\u001b[1;33m\u001b[0m\u001b[0m\n\u001b[0m\u001b[0;32m      7\u001b[0m \u001b[0mprint\u001b[0m\u001b[1;33m(\u001b[0m\u001b[1;34m\"UPDATED value at 3rd loc= \"\u001b[0m\u001b[1;33m,\u001b[0m\u001b[0mtup1\u001b[0m\u001b[1;33m[\u001b[0m\u001b[1;36m3\u001b[0m\u001b[1;33m]\u001b[0m\u001b[1;33m)\u001b[0m\u001b[1;33m\u001b[0m\u001b[1;33m\u001b[0m\u001b[0m\n",
      "\u001b[1;31mTypeError\u001b[0m: 'tuple' object does not support item assignment"
     ]
    }
   ],
   "source": [
    "tup= ('A','B','C','D','E')\n",
    "print(tup1)\n",
    "\n",
    "print(\"value at 3rd loc= \",tup1[3])\n",
    "\n",
    "tup1[3]=\"F\" #not allowed\n",
    "print(\"UPDATED value at 3rd loc= \",tup1[3])"
   ]
  },
  {
   "cell_type": "code",
   "execution_count": 8,
   "id": "90cb299f",
   "metadata": {},
   "outputs": [
    {
     "name": "stdout",
     "output_type": "stream",
     "text": [
      "('A', 'B', 'C', 'D', 'E')\n",
      "('F', 'G', 'H')\n",
      "5\n",
      "3\n",
      "5\n"
     ]
    }
   ],
   "source": [
    "tup1= ('A','B','C','D','E')\n",
    "print(tup1)\n",
    "tup2= ('F','G','H')\n",
    "print(tup2)\n",
    "a=len(tup1)\n",
    "b=len(tup2)\n",
    "print(a)\n",
    "print(b)\n",
    "\n",
    "print(len(tup1))\n"
   ]
  },
  {
   "cell_type": "code",
   "execution_count": 9,
   "id": "fd3c1496",
   "metadata": {},
   "outputs": [
    {
     "name": "stdout",
     "output_type": "stream",
     "text": [
      "('A', 'B', 'C', 'D', 'E')\n",
      "('F', 'G', 'H')\n",
      "E\n"
     ]
    }
   ],
   "source": [
    "tup1= ('A','B','C','D','E')\n",
    "print(tup1)\n",
    "tup2= ('F','G','H')\n",
    "print(tup2)\n",
    "\n",
    "\n",
    "print(max(tup1))"
   ]
  },
  {
   "cell_type": "code",
   "execution_count": null,
   "id": "80ef4447",
   "metadata": {},
   "outputs": [],
   "source": []
  }
 ],
 "metadata": {
  "kernelspec": {
   "display_name": "Python 3",
   "language": "python",
   "name": "python3"
  },
  "language_info": {
   "codemirror_mode": {
    "name": "ipython",
    "version": 3
   },
   "file_extension": ".py",
   "mimetype": "text/x-python",
   "name": "python",
   "nbconvert_exporter": "python",
   "pygments_lexer": "ipython3",
   "version": "3.8.8"
  }
 },
 "nbformat": 4,
 "nbformat_minor": 5
}
